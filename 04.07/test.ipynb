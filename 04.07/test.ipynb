{
 "cells": [
  {
   "cell_type": "code",
   "execution_count": 2,
   "metadata": {},
   "outputs": [
    {
     "data": {
      "text/plain": [
       "511"
      ]
     },
     "execution_count": 2,
     "metadata": {},
     "output_type": "execute_result"
    }
   ],
   "source": [
    "import PyPDF2\n",
    "pdf_file = open((\"sample.file\"))\n",
    "read_pdf = PyPDF2.PdfFileReader(pdf_file)\n",
    "number_of_pages = read_pdf.getNumPages()\n",
    "page = read_pdf.getPage(0)\n",
    "page_content  = page.extractText()\n",
    "print (page_content)\n"
   ]
  },
  {
   "cell_type": "code",
   "execution_count": 3,
   "metadata": {},
   "outputs": [],
   "source": [
    "text_file_r = open(\"C:/Users/coms/Desktop/04.07/text_Folder/hello.txt\", \"r\", encoding='utf-8')\n",
    "\n",
    "text_file_w = open(\"C:/Users/coms/Desktop/04.07/text_Folder/hello.txt\", \"w\", encoding='utf-8')\n",
    "text_file_w.write(\"hellomyname is sun\")\n",
    "text_file_w.close()"
   ]
  },
  {
   "cell_type": "code",
   "execution_count": null,
   "metadata": {},
   "outputs": [],
   "source": []
  },
  {
   "cell_type": "code",
   "execution_count": null,
   "metadata": {},
   "outputs": [],
   "source": []
  },
  {
   "cell_type": "code",
   "execution_count": 2,
   "metadata": {},
   "outputs": [],
   "source": [
    "import os\n",
    "import pandas as pd\n",
    "PATH = 'C:/Users/coms/Desktop/04.07/'\n",
    "folder_name = 'ori_Folder/'\n",
    "data_folder = f'{PATH}{folder_name}'\n",
    "file_list = os.listdir(data_folder)"
   ]
  },
  {
   "cell_type": "code",
   "execution_count": 13,
   "metadata": {},
   "outputs": [
    {
     "name": "stdout",
     "output_type": "stream",
     "text": [
      "군산노래방화재_조사보고서.txt 1117\n",
      "대륙제관_화재보고서.txt 1336\n",
      "부산 도개공아파트 화재조사('06.12.12).txt 511\n",
      "설악웰컴콘도 화재조사보고(본부장070125).txt 819\n",
      "안산시 불법성인오락실화재 현지조사보고[최종].txt 1089\n",
      "여수출입국관리사무소 화재조사 보고(최종).txt 583\n",
      "의왕시 화장품용기공장화재조사보고(종합).txt 1425\n"
     ]
    }
   ],
   "source": [
    "# txt파일 이름 & 글자 수 확인하기 \n",
    "\n",
    "file_list = os.listdir(data_folder) \n",
    "for i in file_list:\n",
    "    if i[-3:] == 'txt':\n",
    "        report = i\n",
    "        dt = pd.read_csv(f\"{data_folder}{report}\", sep='\\t',header=None)\n",
    "        \n",
    "        print(report, len(dt[0][0]))"
   ]
  },
  {
   "cell_type": "code",
   "execution_count": null,
   "metadata": {},
   "outputs": [],
   "source": [
    "# txt 파일 이름, 파일 내용 확인하기 \n",
    "file_list = os.listdir(data_folder) \n",
    "for i in file_list:\n",
    "    if i[-3:] == 'txt':\n",
    "        report = i\n",
    "        dt = pd.read_csv(f\"{data_folder}{report}\", sep='\\t',header=None)\n",
    "        \n",
    "        print(report, dt[0][0],len(dt[0][0]))\n",
    "        print(\"===================================\")"
   ]
  },
  {
   "cell_type": "code",
   "execution_count": 1,
   "metadata": {},
   "outputs": [],
   "source": [
    "import os\n",
    "import pandas as pd\n",
    "import json\n",
    "PATH = 'C:/Users/coms/Desktop/04.07/'\n",
    "folder_name = 'docc_Folder/'\n",
    "data_folder = f'{PATH}{folder_name}'\n",
    "file_list = os.listdir(data_folder)"
   ]
  },
  {
   "cell_type": "code",
   "execution_count": 15,
   "metadata": {},
   "outputs": [
    {
     "data": {
      "text/plain": [
       "[{'id': 6,\n",
       "  'data': '군산시 미륭동 421번지에 소재한 4층 철근콘크리트 건물(‘97. 8. 14 완공)로서 주계단을 중심으로 1층에는 편의점과 음식점, 2층 음식점과 노래방, 3층 당구장과 원룸, 4층 원룸이 있음 샤인노래방은 ‘97. 8. 20 완비증명을 발급받아 영업중에 있었으나, ’86. 2. 20부터 3. 28까지 군산시로부터 영업정지처분을 받고 장기 휴업상태였음 소방검사는 ‘06년 4월 21일 실시, 지적사항 없음 화재발생 개요 화재원인 (방화의심) 2층 노래방 카운터 부위가 소실되고 주변 6호실 벽면과 천장이 깊게 소실된 점과 전기가 단전된 점으로 보아 인위적으로 화재 가 발생된 가능성이 있으나 정확한 원인은 조사중임군산시 미륭동 421번지에 소재한 4층 철근콘크리트 건물(‘97. 8. 14 완공)로서 주계단을 중심으로 1층에는 편의점과 음식점, 2층 음식점과 노래방, 3층 당구장과 원룸, 4층 원룸이 있음 샤인노래방은 ‘97. 8. 20 완비증명을 발급받아 영업중에 있었으나, ’86. 2. 20부터 3. 28까지 군산시로부터 영업정지처분을 받고 장기 휴업상태였음 소방검사는 ‘06년 4월 21일 실시, 지적사항 없음 화재발생 개요 화재원인 (방화의심) 2층 노래방 카운터 부위가 소실되고 주변 6호실 벽면과 천장이 깊게 소실된 점과 전기가 단전된 점으로 보아 인위적으로 화재 가 발생된 가능성이 있으나 정확한 원인은 조사중임최초 화재발생시 3~4층 원룸에 거주자 10명이 옥상에 대피해 있다가 화재가 진화된 것으로 알고 각자 개인 주거로 복귀하였으나 재발화로 인해 옥상으로 대피하는 과정에서 9명이 연기를 흡입하였고, 현재 9명은 단순 연기흡입으로 경미하여 귀가하고, 1명은 경상으로 입원중임 문제점 화재현장 상황판단 미숙 화재진화 상태를 확인하지 않고 현장 소방력을 조기에 철수시켜 잔화정리 과정에서의 재발화에 신속히 대비하지 못하는등 소방작전 미흡 당시 군산소방서의 동향 서장(최정근)은 ‘06. 7. 25일자로 보임되어 관내 현황파악이 잘 안되어 있는 상태이며, 당일 전북 소방본부 주관 상반기 직장훈련 평가(소양고사)가 09:00~09:30, 11:30~12:00 사이 2회에 걸쳐 있어 소방작전 미흡 당시 군산소방서의 동향 서장(최정근)은 관내 현황파악이 잘 안되어 있는 상태이다.',\n",
       "  'label': ['0']},\n",
       " {'id': 7,\n",
       "  'data': '소방경 이동원 (위험물안전관리팀) 소방경 노종복 (소방전략개발팀) 소방경 (소방전략개발팀) 소방경 이동원 (소방경) (소방경) (소방경) (소방경) (소방전략개발팀) 주요 조사내용 폭발화재발생 원인 및 연쇄폭발화재 상황 방화선 구축 등 화재진압 및 인명대피 활동 방화관리 상태 및 가스.소방안전 대책의 문제점 및 개선방안 등 화재진압 및 인명대피 활동 방화관리 상태 및 가스.소방안전 대책의 문제점 및 개선방안 등 爆發火災.소방경 이동원 (위험물안전관리팀) 소방경 노종복 (소방전략개발팀) 소방경 (소방전략개발팀) 소방경 이동원 (소방경) (소방경) (소방경) (소방경) (소방전략개발팀) 주요 조사내용 폭발화재발생 원인 및 연쇄폭발화재 상황 방화선 구축 등 화재진압 및 인명대피 활동 방화관리 상태 및 가스.소방안전 대책의 문제점 및 개선방안 등 화재진압 및 인명대피 활동 방화관리 상태 및 가스.소방안전 대책의 문제점 및 개선방안 등 爆發火災.에어졸동 공정라인에 설치된 「자동필름수축기」과열로 인한 부탄가스용기의 연쇄 폭발화재 추정 화재당시 기상 : 남서풍 0.3m/s, 온도 3.6°C, 습도 89%충남 아산소방서 및 화재현장 조사자 : 소방정 심평강 (화조사분석팀장) 소방경 : 철근콘크리트, 지붕, 지붕, 지붕 소방경 : 철근콘크리트, 지붕 소방경 : 철근콘크리트, 지붕 소방경 : 철근콘크리트, 지붕 소방경 : 철근콘크리트, 지붕 소방경 : 철근콘크리트, 지붕 소방경 : 철근콘크리트, 지붕 소방경 : 철근콘크리트, 지붕 소방경 : 철근콘크리트, 지붕 소방경 : 철근콘크리트, 지붕 소방경 : 철근콘크리트, 지붕 소방경 : 철근콘크리트, 지붕 소방경 : 철근콘크리트, 지붕 소방경 : 철근콘크리트, 지붕 소방경 : 철근콘크리트, 지붕 소방경 : 철근콘크리트, 지붕 소방경 : 철근콘크리트, 지붕 소방경 : 철근콘크리트, 지붕 소방경 : 철근콘크리트, 지붕 소방경 : 철근콘크리트, 지붕 소방경 : 철근콘크리트, 지붕 소방경 : 철근콘크리트, 지붕 소방경 : 철근콘크리트, 지붕 소방경 : 철근콘크리트, 지붕 소방경 : 철근콘크리트, 지붕 소방경 : 철근콘크리트, 지붕 소방경 : 철근콘크리트, 지붕 소방경 : 철근콘크리트, 지붕 소방경 : 철근콘크리트, 지붕 소방경 : 철근콘크리트, 지붕 소방경 : 철근콘크리트, 지붕 소방경 : 철근콘크리트, 지붕 소방경 : 철근콘크리트, 지붕 소방경 : 철근콘크리트, 지붕 소방경 : 철근콘크리트, 지붕 소방경 : 철근콘크리트, 지붕 소방경 : 철근콘크리트, 지붕 소방경 : 철근콘크리트, 지붕 소방경 : 철근콘크리트, 지붕소방제도운영팀, 철근콘크리트, 지붕 소방경 : 철근콘크리트, 지붕 소방경 : 철근콘크리트, 지붕 소방경 : 철근콘크',\n",
       "  'label': ['0']},\n",
       " {'id': 8,\n",
       "  'data': '부산 북부 덕천1동 8141번지에 소재한 도개공 아파트는 부산시 도시개발공사에서 운영하는 15층 임대아파트 건물로 12평형 복도식 아파트로 총 8개동(990세대)로 구성되어 있으며 화재건물 113동은 90세대가 거주함부산 북부 덕천1동 8141번지에 소재한 도개공 아파트는 부산시 도시개발공사에서 운영하는 15층 임대아파트 건물로 12평형 복도식 아파트로 총 8개동(990세대)로 구성되어 있으며 화재건물 113동은 90세대가 거주함부산 북부 덕천1동 8141번지에 소재한 도개공 아파트는 부산시 도시개발공사에서 운영하는 15층 임대아파트 건물로 12평형 복도식 아파트로 총 8개동(990세대)로 구성되어 있으며 화재건물 113동은 90세대가 거주함시설관리임 이병섭(54세)이 15층부터 같은 라인의 아래층을 단계적으로 확인하는 과정에서 10층 1005호에 화재가 발생하여 거주자 강성근(남, 43세)이 입구쪽 방에서 엎드려 엎드려 엎드려 쭈그린채 엎드려 쭈그린채 엎드려 쭈그린채 엎드려  엎드려 쭈그린채 엎드려 ',\n",
       "  'label': ['0']}]"
      ]
     },
     "execution_count": 15,
     "metadata": {},
     "output_type": "execute_result"
    }
   ],
   "source": [
    "import os\n",
    "import pandas as pd\n",
    "import json\n",
    "PATH = 'C:/Users/coms/Desktop/04.07/'\n",
    "folder_name = 'docc_Folder/'\n",
    "data_folder = f'{PATH}{folder_name}'\n",
    "file_list = os.listdir(data_folder)\n",
    "\n",
    "for i in file_list:\n",
    "    if i[-4:] == 'json':\n",
    "        name = i[-4:]\n",
    "        with open(f'{data_folder}{i}', 'r', encoding = 'utf-8') as f:\n",
    "            json_data = json.load(f)\n",
    "    \n",
    "json_data\n"
   ]
  },
  {
   "cell_type": "code",
   "execution_count": 5,
   "metadata": {},
   "outputs": [],
   "source": []
  }
 ],
 "metadata": {
  "interpreter": {
   "hash": "ae46a4d1f43f00095022611d0bd37fcf84414de0a6273dac1ee9997f3859bcd5"
  },
  "kernelspec": {
   "display_name": "Python 3.9.0 ('tutorial2')",
   "language": "python",
   "name": "python3"
  },
  "language_info": {
   "codemirror_mode": {
    "name": "ipython",
    "version": 3
   },
   "file_extension": ".py",
   "mimetype": "text/x-python",
   "name": "python",
   "nbconvert_exporter": "python",
   "pygments_lexer": "ipython3",
   "version": "3.9.0"
  },
  "orig_nbformat": 4
 },
 "nbformat": 4,
 "nbformat_minor": 2
}
